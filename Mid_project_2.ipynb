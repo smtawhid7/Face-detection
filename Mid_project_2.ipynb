{
 "cells": [
  {
   "cell_type": "code",
   "execution_count": 1,
   "metadata": {
    "id": "O6UYIxeF-HOq"
   },
   "outputs": [],
   "source": [
    "import cv2\n",
    "import numpy as np\n",
    "from keras.models import load_model\n",
    "from PIL import Image\n",
    "import pickle\n",
    "import matplotlib.pyplot as plt\n",
    "from IPython.display import display, Javascript, Image\n",
    "from google.colab.output import eval_js\n",
    "from base64 import b64decode, b64encode\n",
    "import PIL\n",
    "import io"
   ]
  },
  {
   "cell_type": "code",
   "execution_count": 2,
   "metadata": {
    "colab": {
     "base_uri": "https://localhost:8080/"
    },
    "id": "IVMkCDbS7K4a",
    "outputId": "35ffc1c8-cce3-4e65-b9c6-e0d33539aba9"
   },
   "outputs": [
    {
     "name": "stdout",
     "output_type": "stream",
     "text": [
      "Mounted at /content/drive\n"
     ]
    }
   ],
   "source": [
    "from google.colab import drive\n",
    "drive.mount('/content/drive')\n"
   ]
  },
  {
   "cell_type": "code",
   "execution_count": null,
   "metadata": {
    "id": "IsKCdLx56qW-"
   },
   "outputs": [],
   "source": [
    "\n",
    "\n",
    "# Load the trained model\n",
    "model = load_model('/content/drive/MyDrive/face_recognition_model.h5')\n",
    "model.compile(optimizer='adam', loss='categorical_crossentropy', metrics=['accuracy'])\n",
    "\n",
    "\n"
   ]
  },
  {
   "cell_type": "code",
   "execution_count": 5,
   "metadata": {
    "colab": {
     "base_uri": "https://localhost:8080/",
     "height": 385
    },
    "id": "vhyZwyZV7nqc",
    "outputId": "6e64c6df-0a1d-4fe3-db0f-894915bb1ad6"
   },
   "outputs": [
    {
     "data": {
      "text/html": [
       "<pre style=\"white-space:pre;overflow-x:auto;line-height:normal;font-family:Menlo,'DejaVu Sans Mono',consolas,'Courier New',monospace\"><span style=\"font-weight: bold\">Model: \"sequential_9\"</span>\n",
       "</pre>\n"
      ],
      "text/plain": [
       "\u001b[1mModel: \"sequential_9\"\u001b[0m\n"
      ]
     },
     "metadata": {},
     "output_type": "display_data"
    },
    {
     "data": {
      "text/html": [
       "<pre style=\"white-space:pre;overflow-x:auto;line-height:normal;font-family:Menlo,'DejaVu Sans Mono',consolas,'Courier New',monospace\">┏━━━━━━━━━━━━━━━━━━━━━━━━━━━━━━━━━━━━━━┳━━━━━━━━━━━━━━━━━━━━━━━━━━━━━┳━━━━━━━━━━━━━━━━━┓\n",
       "┃<span style=\"font-weight: bold\"> Layer (type)                         </span>┃<span style=\"font-weight: bold\"> Output Shape                </span>┃<span style=\"font-weight: bold\">         Param # </span>┃\n",
       "┡━━━━━━━━━━━━━━━━━━━━━━━━━━━━━━━━━━━━━━╇━━━━━━━━━━━━━━━━━━━━━━━━━━━━━╇━━━━━━━━━━━━━━━━━┩\n",
       "│ conv2d_18 (<span style=\"color: #0087ff; text-decoration-color: #0087ff\">Conv2D</span>)                   │ (<span style=\"color: #00d7ff; text-decoration-color: #00d7ff\">None</span>, <span style=\"color: #00af00; text-decoration-color: #00af00\">222</span>, <span style=\"color: #00af00; text-decoration-color: #00af00\">222</span>, <span style=\"color: #00af00; text-decoration-color: #00af00\">32</span>)        │             <span style=\"color: #00af00; text-decoration-color: #00af00\">896</span> │\n",
       "├──────────────────────────────────────┼─────────────────────────────┼─────────────────┤\n",
       "│ max_pooling2d_18 (<span style=\"color: #0087ff; text-decoration-color: #0087ff\">MaxPooling2D</span>)      │ (<span style=\"color: #00d7ff; text-decoration-color: #00d7ff\">None</span>, <span style=\"color: #00af00; text-decoration-color: #00af00\">111</span>, <span style=\"color: #00af00; text-decoration-color: #00af00\">111</span>, <span style=\"color: #00af00; text-decoration-color: #00af00\">32</span>)        │               <span style=\"color: #00af00; text-decoration-color: #00af00\">0</span> │\n",
       "├──────────────────────────────────────┼─────────────────────────────┼─────────────────┤\n",
       "│ conv2d_19 (<span style=\"color: #0087ff; text-decoration-color: #0087ff\">Conv2D</span>)                   │ (<span style=\"color: #00d7ff; text-decoration-color: #00d7ff\">None</span>, <span style=\"color: #00af00; text-decoration-color: #00af00\">109</span>, <span style=\"color: #00af00; text-decoration-color: #00af00\">109</span>, <span style=\"color: #00af00; text-decoration-color: #00af00\">64</span>)        │          <span style=\"color: #00af00; text-decoration-color: #00af00\">18,496</span> │\n",
       "├──────────────────────────────────────┼─────────────────────────────┼─────────────────┤\n",
       "│ max_pooling2d_19 (<span style=\"color: #0087ff; text-decoration-color: #0087ff\">MaxPooling2D</span>)      │ (<span style=\"color: #00d7ff; text-decoration-color: #00d7ff\">None</span>, <span style=\"color: #00af00; text-decoration-color: #00af00\">54</span>, <span style=\"color: #00af00; text-decoration-color: #00af00\">54</span>, <span style=\"color: #00af00; text-decoration-color: #00af00\">64</span>)          │               <span style=\"color: #00af00; text-decoration-color: #00af00\">0</span> │\n",
       "├──────────────────────────────────────┼─────────────────────────────┼─────────────────┤\n",
       "│ flatten_9 (<span style=\"color: #0087ff; text-decoration-color: #0087ff\">Flatten</span>)                  │ (<span style=\"color: #00d7ff; text-decoration-color: #00d7ff\">None</span>, <span style=\"color: #00af00; text-decoration-color: #00af00\">186624</span>)              │               <span style=\"color: #00af00; text-decoration-color: #00af00\">0</span> │\n",
       "├──────────────────────────────────────┼─────────────────────────────┼─────────────────┤\n",
       "│ dense_18 (<span style=\"color: #0087ff; text-decoration-color: #0087ff\">Dense</span>)                     │ (<span style=\"color: #00d7ff; text-decoration-color: #00d7ff\">None</span>, <span style=\"color: #00af00; text-decoration-color: #00af00\">128</span>)                 │      <span style=\"color: #00af00; text-decoration-color: #00af00\">23,888,000</span> │\n",
       "├──────────────────────────────────────┼─────────────────────────────┼─────────────────┤\n",
       "│ dropout_9 (<span style=\"color: #0087ff; text-decoration-color: #0087ff\">Dropout</span>)                  │ (<span style=\"color: #00d7ff; text-decoration-color: #00d7ff\">None</span>, <span style=\"color: #00af00; text-decoration-color: #00af00\">128</span>)                 │               <span style=\"color: #00af00; text-decoration-color: #00af00\">0</span> │\n",
       "├──────────────────────────────────────┼─────────────────────────────┼─────────────────┤\n",
       "│ dense_19 (<span style=\"color: #0087ff; text-decoration-color: #0087ff\">Dense</span>)                     │ (<span style=\"color: #00d7ff; text-decoration-color: #00d7ff\">None</span>, <span style=\"color: #00af00; text-decoration-color: #00af00\">4</span>)                   │             <span style=\"color: #00af00; text-decoration-color: #00af00\">516</span> │\n",
       "└──────────────────────────────────────┴─────────────────────────────┴─────────────────┘\n",
       "</pre>\n"
      ],
      "text/plain": [
       "┏━━━━━━━━━━━━━━━━━━━━━━━━━━━━━━━━━━━━━━┳━━━━━━━━━━━━━━━━━━━━━━━━━━━━━┳━━━━━━━━━━━━━━━━━┓\n",
       "┃\u001b[1m \u001b[0m\u001b[1mLayer (type)                        \u001b[0m\u001b[1m \u001b[0m┃\u001b[1m \u001b[0m\u001b[1mOutput Shape               \u001b[0m\u001b[1m \u001b[0m┃\u001b[1m \u001b[0m\u001b[1m        Param #\u001b[0m\u001b[1m \u001b[0m┃\n",
       "┡━━━━━━━━━━━━━━━━━━━━━━━━━━━━━━━━━━━━━━╇━━━━━━━━━━━━━━━━━━━━━━━━━━━━━╇━━━━━━━━━━━━━━━━━┩\n",
       "│ conv2d_18 (\u001b[38;5;33mConv2D\u001b[0m)                   │ (\u001b[38;5;45mNone\u001b[0m, \u001b[38;5;34m222\u001b[0m, \u001b[38;5;34m222\u001b[0m, \u001b[38;5;34m32\u001b[0m)        │             \u001b[38;5;34m896\u001b[0m │\n",
       "├──────────────────────────────────────┼─────────────────────────────┼─────────────────┤\n",
       "│ max_pooling2d_18 (\u001b[38;5;33mMaxPooling2D\u001b[0m)      │ (\u001b[38;5;45mNone\u001b[0m, \u001b[38;5;34m111\u001b[0m, \u001b[38;5;34m111\u001b[0m, \u001b[38;5;34m32\u001b[0m)        │               \u001b[38;5;34m0\u001b[0m │\n",
       "├──────────────────────────────────────┼─────────────────────────────┼─────────────────┤\n",
       "│ conv2d_19 (\u001b[38;5;33mConv2D\u001b[0m)                   │ (\u001b[38;5;45mNone\u001b[0m, \u001b[38;5;34m109\u001b[0m, \u001b[38;5;34m109\u001b[0m, \u001b[38;5;34m64\u001b[0m)        │          \u001b[38;5;34m18,496\u001b[0m │\n",
       "├──────────────────────────────────────┼─────────────────────────────┼─────────────────┤\n",
       "│ max_pooling2d_19 (\u001b[38;5;33mMaxPooling2D\u001b[0m)      │ (\u001b[38;5;45mNone\u001b[0m, \u001b[38;5;34m54\u001b[0m, \u001b[38;5;34m54\u001b[0m, \u001b[38;5;34m64\u001b[0m)          │               \u001b[38;5;34m0\u001b[0m │\n",
       "├──────────────────────────────────────┼─────────────────────────────┼─────────────────┤\n",
       "│ flatten_9 (\u001b[38;5;33mFlatten\u001b[0m)                  │ (\u001b[38;5;45mNone\u001b[0m, \u001b[38;5;34m186624\u001b[0m)              │               \u001b[38;5;34m0\u001b[0m │\n",
       "├──────────────────────────────────────┼─────────────────────────────┼─────────────────┤\n",
       "│ dense_18 (\u001b[38;5;33mDense\u001b[0m)                     │ (\u001b[38;5;45mNone\u001b[0m, \u001b[38;5;34m128\u001b[0m)                 │      \u001b[38;5;34m23,888,000\u001b[0m │\n",
       "├──────────────────────────────────────┼─────────────────────────────┼─────────────────┤\n",
       "│ dropout_9 (\u001b[38;5;33mDropout\u001b[0m)                  │ (\u001b[38;5;45mNone\u001b[0m, \u001b[38;5;34m128\u001b[0m)                 │               \u001b[38;5;34m0\u001b[0m │\n",
       "├──────────────────────────────────────┼─────────────────────────────┼─────────────────┤\n",
       "│ dense_19 (\u001b[38;5;33mDense\u001b[0m)                     │ (\u001b[38;5;45mNone\u001b[0m, \u001b[38;5;34m4\u001b[0m)                   │             \u001b[38;5;34m516\u001b[0m │\n",
       "└──────────────────────────────────────┴─────────────────────────────┴─────────────────┘\n"
      ]
     },
     "metadata": {},
     "output_type": "display_data"
    },
    {
     "data": {
      "text/html": [
       "<pre style=\"white-space:pre;overflow-x:auto;line-height:normal;font-family:Menlo,'DejaVu Sans Mono',consolas,'Courier New',monospace\"><span style=\"font-weight: bold\"> Total params: </span><span style=\"color: #00af00; text-decoration-color: #00af00\">23,907,908</span> (91.20 MB)\n",
       "</pre>\n"
      ],
      "text/plain": [
       "\u001b[1m Total params: \u001b[0m\u001b[38;5;34m23,907,908\u001b[0m (91.20 MB)\n"
      ]
     },
     "metadata": {},
     "output_type": "display_data"
    },
    {
     "data": {
      "text/html": [
       "<pre style=\"white-space:pre;overflow-x:auto;line-height:normal;font-family:Menlo,'DejaVu Sans Mono',consolas,'Courier New',monospace\"><span style=\"font-weight: bold\"> Trainable params: </span><span style=\"color: #00af00; text-decoration-color: #00af00\">23,907,908</span> (91.20 MB)\n",
       "</pre>\n"
      ],
      "text/plain": [
       "\u001b[1m Trainable params: \u001b[0m\u001b[38;5;34m23,907,908\u001b[0m (91.20 MB)\n"
      ]
     },
     "metadata": {},
     "output_type": "display_data"
    },
    {
     "data": {
      "text/html": [
       "<pre style=\"white-space:pre;overflow-x:auto;line-height:normal;font-family:Menlo,'DejaVu Sans Mono',consolas,'Courier New',monospace\"><span style=\"font-weight: bold\"> Non-trainable params: </span><span style=\"color: #00af00; text-decoration-color: #00af00\">0</span> (0.00 B)\n",
       "</pre>\n"
      ],
      "text/plain": [
       "\u001b[1m Non-trainable params: \u001b[0m\u001b[38;5;34m0\u001b[0m (0.00 B)\n"
      ]
     },
     "metadata": {},
     "output_type": "display_data"
    }
   ],
   "source": [
    "model.summary()"
   ]
  },
  {
   "cell_type": "code",
   "execution_count": 19,
   "metadata": {
    "id": "fATlENAc-eCa"
   },
   "outputs": [],
   "source": [
    "pickle_in = open(\"/content/drive/MyDrive/X_train.pickle\",\"rb\")\n",
    "X = pickle.load(pickle_in)\n",
    "\n",
    "pickle_in = open(\"/content/drive/MyDrive/Y_train.pickle\",\"rb\")\n",
    "y = pickle.load(pickle_in)"
   ]
  },
  {
   "cell_type": "markdown",
   "metadata": {
    "id": "9-5X0wi_AH1Z"
   },
   "source": [
    "#**Camera** **ON**"
   ]
  },
  {
   "cell_type": "code",
   "execution_count": 20,
   "metadata": {
    "colab": {
     "base_uri": "https://localhost:8080/",
     "height": 364
    },
    "id": "LcXd3QtuPGcy",
    "outputId": "08ab17d0-3155-4d49-ff48-5d8ca5303801"
   },
   "outputs": [
    {
     "name": "stdout",
     "output_type": "stream",
     "text": [
      "Loaded Labels: [0, 1]\n",
      "Model input shape: (None, 224, 224, 3)\n"
     ]
    },
    {
     "data": {
      "application/javascript": "\n        var video;\n        var div = null;\n        var stream;\n        var captureCanvas;\n        var imgElement;\n        var labelElement;\n\n        var pendingResolve = null;\n        var shutdown = false;\n\n        function removeDom() {\n            stream.getVideoTracks()[0].stop();\n            video.remove();\n            div.remove();\n            video = null;\n            div = null;\n            stream = null;\n            imgElement = null;\n            captureCanvas = null;\n            labelElement = null;\n        }\n\n        function onAnimationFrame() {\n            if (!shutdown) {\n                window.requestAnimationFrame(onAnimationFrame);\n            }\n            if (pendingResolve) {\n                var result = \"\";\n                if (!shutdown) {\n                    captureCanvas.getContext('2d').drawImage(video, 0, 0, 640, 480);\n                    result = captureCanvas.toDataURL('image/jpeg', 0.8);\n                }\n                var lp = pendingResolve;\n                pendingResolve = null;\n                lp(result);\n            }\n        }\n\n        async function createDom() {\n            if (div !== null) {\n                return stream;\n            }\n\n            div = document.createElement('div');\n            div.style.border = '2px solid black';\n            div.style.padding = '3px';\n            div.style.width = '100%';\n            div.style.maxWidth = '600px';\n            document.body.appendChild(div);\n\n            const modelOut = document.createElement('div');\n            modelOut.innerHTML = \"Status:\";\n            labelElement = document.createElement('span');\n            labelElement.innerText = 'No data';\n            labelElement.style.fontWeight = 'bold';\n            modelOut.appendChild(labelElement);\n            div.appendChild(modelOut);\n\n            video = document.createElement('video');\n            video.style.display = 'block';\n            video.width = div.clientWidth - 6;\n            video.setAttribute('playsinline', '');\n            video.onclick = () => { shutdown = true; };\n            stream = await navigator.mediaDevices.getUserMedia(\n                {video: { facingMode: \"environment\"}});\n            div.appendChild(video);\n\n            imgElement = document.createElement('img');\n            imgElement.style.position = 'absolute';\n            imgElement.style.zIndex = 1;\n            imgElement.onclick = () => { shutdown = true; };\n            div.appendChild(imgElement);\n\n            const instruction = document.createElement('div');\n            instruction.innerHTML =\n                '' +\n                'When finished, click here or on the video to stop this demo';\n            div.appendChild(instruction);\n            instruction.onclick = () => { shutdown = true; };\n\n            video.srcObject = stream;\n            await video.play();\n\n            captureCanvas = document.createElement('canvas');\n            captureCanvas.width = 640;\n            captureCanvas.height = 480;\n            window.requestAnimationFrame(onAnimationFrame);\n\n            return stream;\n        }\n\n        async function stream_frame(label, imgData) {\n            if (shutdown) {\n                removeDom();\n                shutdown = false;\n                return '';\n            }\n\n            var preCreate = Date.now();\n            stream = await createDom();\n\n            var preShow = Date.now();\n            if (label != \"\") {\n                labelElement.innerHTML = label;\n            }\n\n            if (imgData != \"\") {\n                var videoRect = video.getClientRects()[0];\n                imgElement.style.top = videoRect.top + \"px\";\n                imgElement.style.left = videoRect.left + \"px\";\n                imgElement.style.width = videoRect.width + \"px\";\n                imgElement.style.height = videoRect.height + \"px\";\n                imgElement.src = imgData;\n            }\n\n            var preCapture = Date.now();\n            var result = await new Promise(function(resolve, reject) {\n                pendingResolve = resolve;\n            });\n            shutdown = false;\n\n            return {'create': preShow - preCreate,\n                    'show': preCapture - preShow,\n                    'capture': Date.now() - preCapture,\n                    'img': result};\n        }\n    ",
      "text/plain": [
       "<IPython.core.display.Javascript object>"
      ]
     },
     "metadata": {},
     "output_type": "display_data"
    },
    {
     "name": "stdout",
     "output_type": "stream",
     "text": [
      "\u001b[1m1/1\u001b[0m \u001b[32m━━━━━━━━━━━━━━━━━━━━\u001b[0m\u001b[37m\u001b[0m \u001b[1m0s\u001b[0m 335ms/step\n",
      "\u001b[1m1/1\u001b[0m \u001b[32m━━━━━━━━━━━━━━━━━━━━\u001b[0m\u001b[37m\u001b[0m \u001b[1m0s\u001b[0m 49ms/step\n",
      "\u001b[1m1/1\u001b[0m \u001b[32m━━━━━━━━━━━━━━━━━━━━\u001b[0m\u001b[37m\u001b[0m \u001b[1m0s\u001b[0m 58ms/step\n",
      "\u001b[1m1/1\u001b[0m \u001b[32m━━━━━━━━━━━━━━━━━━━━\u001b[0m\u001b[37m\u001b[0m \u001b[1m0s\u001b[0m 53ms/step\n",
      "\u001b[1m1/1\u001b[0m \u001b[32m━━━━━━━━━━━━━━━━━━━━\u001b[0m\u001b[37m\u001b[0m \u001b[1m0s\u001b[0m 49ms/step\n",
      "\u001b[1m1/1\u001b[0m \u001b[32m━━━━━━━━━━━━━━━━━━━━\u001b[0m\u001b[37m\u001b[0m \u001b[1m0s\u001b[0m 54ms/step\n",
      "\u001b[1m1/1\u001b[0m \u001b[32m━━━━━━━━━━━━━━━━━━━━\u001b[0m\u001b[37m\u001b[0m \u001b[1m0s\u001b[0m 54ms/step\n",
      "\u001b[1m1/1\u001b[0m \u001b[32m━━━━━━━━━━━━━━━━━━━━\u001b[0m\u001b[37m\u001b[0m \u001b[1m0s\u001b[0m 79ms/step\n",
      "\u001b[1m1/1\u001b[0m \u001b[32m━━━━━━━━━━━━━━━━━━━━\u001b[0m\u001b[37m\u001b[0m \u001b[1m0s\u001b[0m 85ms/step\n",
      "\u001b[1m1/1\u001b[0m \u001b[32m━━━━━━━━━━━━━━━━━━━━\u001b[0m\u001b[37m\u001b[0m \u001b[1m0s\u001b[0m 50ms/step\n",
      "\u001b[1m1/1\u001b[0m \u001b[32m━━━━━━━━━━━━━━━━━━━━\u001b[0m\u001b[37m\u001b[0m \u001b[1m0s\u001b[0m 63ms/step\n",
      "\u001b[1m1/1\u001b[0m \u001b[32m━━━━━━━━━━━━━━━━━━━━\u001b[0m\u001b[37m\u001b[0m \u001b[1m0s\u001b[0m 48ms/step\n",
      "\u001b[1m1/1\u001b[0m \u001b[32m━━━━━━━━━━━━━━━━━━━━\u001b[0m\u001b[37m\u001b[0m \u001b[1m0s\u001b[0m 51ms/step\n",
      "\u001b[1m1/1\u001b[0m \u001b[32m━━━━━━━━━━━━━━━━━━━━\u001b[0m\u001b[37m\u001b[0m \u001b[1m0s\u001b[0m 51ms/step\n",
      "\u001b[1m1/1\u001b[0m \u001b[32m━━━━━━━━━━━━━━━━━━━━\u001b[0m\u001b[37m\u001b[0m \u001b[1m0s\u001b[0m 47ms/step\n",
      "\u001b[1m1/1\u001b[0m \u001b[32m━━━━━━━━━━━━━━━━━━━━\u001b[0m\u001b[37m\u001b[0m \u001b[1m0s\u001b[0m 52ms/step\n",
      "\u001b[1m1/1\u001b[0m \u001b[32m━━━━━━━━━━━━━━━━━━━━\u001b[0m\u001b[37m\u001b[0m \u001b[1m0s\u001b[0m 100ms/step\n",
      "\u001b[1m1/1\u001b[0m \u001b[32m━━━━━━━━━━━━━━━━━━━━\u001b[0m\u001b[37m\u001b[0m \u001b[1m0s\u001b[0m 75ms/step\n"
     ]
    }
   ],
   "source": [
    "\n",
    "\n",
    "# Load the Haar Cascade for face detection\n",
    "face_cascade = cv2.CascadeClassifier(cv2.data.haarcascades + 'haarcascade_frontalface_default.xml')\n",
    "\n",
    "\n",
    "if isinstance(y, int):\n",
    "    y = [y]\n",
    "elif not isinstance(y, (list, np.ndarray)):\n",
    "    raise ValueError(\"Unexpected format for labels in 'y'. Expected list or array-like.\")\n",
    "\n",
    "if isinstance(y, np.ndarray):\n",
    "    y = y.tolist()\n",
    "\n",
    "class_labels = sorted(set(y))  # Ensure unique labels and sorted order\n",
    "print(\"Loaded Labels:\", class_labels)\n",
    "\n",
    "# Inspect the input shape of the model\n",
    "print(\"Model input shape:\", model.input_shape)\n",
    "\n",
    "# Function to preprocess the face for the model\n",
    "def preprocess_face(face, target_shape):\n",
    "    face_resized = cv2.resize(face, (target_shape[1], target_shape[2]))\n",
    "    face_normalized = face_resized / 255.0\n",
    "    face_array = np.expand_dims(face_normalized, axis=0)  # Add batch dimension\n",
    "    if len(model.input_shape) == 2:  # If the model expects flattened input\n",
    "        face_array = face_array.reshape((1, -1))  # Flatten the array\n",
    "    return face_array\n",
    "\n",
    "# Function to handle predictions\n",
    "def predict_label(face_array):\n",
    "    predictions = model.predict(face_array)\n",
    "    confidence = np.max(predictions)\n",
    "    label_index = np.argmax(predictions)\n",
    "    return label_index, confidence\n",
    "\n",
    "# Function to convert JavaScript object to OpenCV image\n",
    "def js_to_image(js_reply):\n",
    "    image_bytes = b64decode(js_reply.split(',')[1])\n",
    "    jpg_as_np = np.frombuffer(image_bytes, dtype=np.uint8)\n",
    "    img = cv2.imdecode(jpg_as_np, flags=1)\n",
    "    return img\n",
    "\n",
    "# Function to convert OpenCV bounding box to base64 for overlay\n",
    "def bbox_to_bytes(bbox_array):\n",
    "    bbox_PIL = PIL.Image.fromarray(bbox_array, 'RGBA')\n",
    "    iobuf = io.BytesIO()\n",
    "    bbox_PIL.save(iobuf, format='png')\n",
    "    bbox_bytes = 'data:image/png;base64,{}'.format((str(b64encode(iobuf.getvalue()), 'utf-8')))\n",
    "    return bbox_bytes\n",
    "\n",
    "# JavaScript for video stream\n",
    "def video_stream():\n",
    "    js = Javascript('''\n",
    "        var video;\n",
    "        var div = null;\n",
    "        var stream;\n",
    "        var captureCanvas;\n",
    "        var imgElement;\n",
    "        var labelElement;\n",
    "\n",
    "        var pendingResolve = null;\n",
    "        var shutdown = false;\n",
    "\n",
    "        function removeDom() {\n",
    "            stream.getVideoTracks()[0].stop();\n",
    "            video.remove();\n",
    "            div.remove();\n",
    "            video = null;\n",
    "            div = null;\n",
    "            stream = null;\n",
    "            imgElement = null;\n",
    "            captureCanvas = null;\n",
    "            labelElement = null;\n",
    "        }\n",
    "\n",
    "        function onAnimationFrame() {\n",
    "            if (!shutdown) {\n",
    "                window.requestAnimationFrame(onAnimationFrame);\n",
    "            }\n",
    "            if (pendingResolve) {\n",
    "                var result = \"\";\n",
    "                if (!shutdown) {\n",
    "                    captureCanvas.getContext('2d').drawImage(video, 0, 0, 640, 480);\n",
    "                    result = captureCanvas.toDataURL('image/jpeg', 0.8);\n",
    "                }\n",
    "                var lp = pendingResolve;\n",
    "                pendingResolve = null;\n",
    "                lp(result);\n",
    "            }\n",
    "        }\n",
    "\n",
    "        async function createDom() {\n",
    "            if (div !== null) {\n",
    "                return stream;\n",
    "            }\n",
    "\n",
    "            div = document.createElement('div');\n",
    "            div.style.border = '2px solid black';\n",
    "            div.style.padding = '3px';\n",
    "            div.style.width = '100%';\n",
    "            div.style.maxWidth = '600px';\n",
    "            document.body.appendChild(div);\n",
    "\n",
    "            const modelOut = document.createElement('div');\n",
    "            modelOut.innerHTML = \"Status:\";\n",
    "            labelElement = document.createElement('span');\n",
    "            labelElement.innerText = 'No data';\n",
    "            labelElement.style.fontWeight = 'bold';\n",
    "            modelOut.appendChild(labelElement);\n",
    "            div.appendChild(modelOut);\n",
    "\n",
    "            video = document.createElement('video');\n",
    "            video.style.display = 'block';\n",
    "            video.width = div.clientWidth - 6;\n",
    "            video.setAttribute('playsinline', '');\n",
    "            video.onclick = () => { shutdown = true; };\n",
    "            stream = await navigator.mediaDevices.getUserMedia(\n",
    "                {video: { facingMode: \"environment\"}});\n",
    "            div.appendChild(video);\n",
    "\n",
    "            imgElement = document.createElement('img');\n",
    "            imgElement.style.position = 'absolute';\n",
    "            imgElement.style.zIndex = 1;\n",
    "            imgElement.onclick = () => { shutdown = true; };\n",
    "            div.appendChild(imgElement);\n",
    "\n",
    "            const instruction = document.createElement('div');\n",
    "            instruction.innerHTML =\n",
    "                '' +\n",
    "                'When finished, click here or on the video to stop this demo';\n",
    "            div.appendChild(instruction);\n",
    "            instruction.onclick = () => { shutdown = true; };\n",
    "\n",
    "            video.srcObject = stream;\n",
    "            await video.play();\n",
    "\n",
    "            captureCanvas = document.createElement('canvas');\n",
    "            captureCanvas.width = 640;\n",
    "            captureCanvas.height = 480;\n",
    "            window.requestAnimationFrame(onAnimationFrame);\n",
    "\n",
    "            return stream;\n",
    "        }\n",
    "\n",
    "        async function stream_frame(label, imgData) {\n",
    "            if (shutdown) {\n",
    "                removeDom();\n",
    "                shutdown = false;\n",
    "                return '';\n",
    "            }\n",
    "\n",
    "            var preCreate = Date.now();\n",
    "            stream = await createDom();\n",
    "\n",
    "            var preShow = Date.now();\n",
    "            if (label != \"\") {\n",
    "                labelElement.innerHTML = label;\n",
    "            }\n",
    "\n",
    "            if (imgData != \"\") {\n",
    "                var videoRect = video.getClientRects()[0];\n",
    "                imgElement.style.top = videoRect.top + \"px\";\n",
    "                imgElement.style.left = videoRect.left + \"px\";\n",
    "                imgElement.style.width = videoRect.width + \"px\";\n",
    "                imgElement.style.height = videoRect.height + \"px\";\n",
    "                imgElement.src = imgData;\n",
    "            }\n",
    "\n",
    "            var preCapture = Date.now();\n",
    "            var result = await new Promise(function(resolve, reject) {\n",
    "                pendingResolve = resolve;\n",
    "            });\n",
    "            shutdown = false;\n",
    "\n",
    "            return {'create': preShow - preCreate,\n",
    "                    'show': preCapture - preShow,\n",
    "                    'capture': Date.now() - preCapture,\n",
    "                    'img': result};\n",
    "        }\n",
    "    ''')\n",
    "    display(js)\n",
    "\n",
    "def video_frame(label, bbox):\n",
    "    data = eval_js('stream_frame(\"{}\", \"{}\")'.format(label, bbox))\n",
    "    return data\n",
    "\n",
    "# Start video stream\n",
    "video_stream()\n",
    "label_html = 'Capturing...'\n",
    "bbox = ''\n",
    "count = 0\n",
    "\n",
    "while True:\n",
    "    js_reply = video_frame(label_html, bbox)\n",
    "    if not js_reply:\n",
    "        break\n",
    "\n",
    "    # Convert JS response to OpenCV image\n",
    "    img = js_to_image(js_reply[\"img\"])\n",
    "    bbox_array = np.zeros([480, 640, 4], dtype=np.uint8)\n",
    "\n",
    "    # Convert image to grayscale for face detection\n",
    "    gray = cv2.cvtColor(img, cv2.COLOR_RGB2GRAY)\n",
    "    faces = face_cascade.detectMultiScale(gray, scaleFactor=1.1, minNeighbors=5)\n",
    "\n",
    "    for (x, y, w, h) in faces:\n",
    "        # Extract and preprocess the detected face\n",
    "        face = img[y:y+h, x:x+w]\n",
    "        face_array = preprocess_face(face, target_shape=model.input_shape)\n",
    "\n",
    "        # Predict the class and confidence\n",
    "        label_index, confidence = predict_label(face_array)\n",
    "\n",
    "        # Determine label\n",
    "        if confidence > 0.8:  # Confidence threshold\n",
    "            label = f\"{class_labels[label_index]} ({confidence*100:.2f}%)\"\n",
    "            color = (0, 255, 0)  # Green for recognized\n",
    "        else:\n",
    "            label = \"Unknown\"\n",
    "            color = (0, 0, 255)  # Red for unknown\n",
    "\n",
    "        # Draw bounding box and label\n",
    "        bbox_array = cv2.rectangle(bbox_array, (x, y), (x+w, y+h), color, 2)\n",
    "        bbox_array = cv2.putText(bbox_array, label, (x, y-10), cv2.FONT_HERSHEY_SIMPLEX, 0.8, color, 2)\n",
    "\n",
    "    # Convert bbox to overlay\n",
    "    bbox_array[:, :, 3] = (bbox_array.max(axis=2) > 0).astype(int) * 255\n",
    "    bbox_bytes = bbox_to_bytes(bbox_array)\n",
    "    bbox = bbox_bytes\n"
   ]
  },
  {
   "cell_type": "markdown",
   "metadata": {
    "id": "_I9-ZXNdS2PA"
   },
   "source": []
  },
  {
   "cell_type": "markdown",
   "metadata": {
    "id": "ucqIOP9RS2Lf"
   },
   "source": []
  },
  {
   "cell_type": "markdown",
   "metadata": {
    "id": "NTJkFRdLS2IA"
   },
   "source": []
  },
  {
   "cell_type": "markdown",
   "metadata": {
    "id": "6vnjkX32S1_5"
   },
   "source": []
  },
  {
   "cell_type": "markdown",
   "metadata": {
    "id": "OcUSMLImS1z0"
   },
   "source": []
  },
  {
   "cell_type": "markdown",
   "metadata": {
    "id": "qQCKKcgsS1dA"
   },
   "source": []
  },
  {
   "cell_type": "markdown",
   "metadata": {
    "id": "H0LWvQ--LLeo"
   },
   "source": []
  },
  {
   "cell_type": "markdown",
   "metadata": {
    "id": "U6TFtgZiLMb4"
   },
   "source": []
  },
  {
   "cell_type": "code",
   "execution_count": 17,
   "metadata": {
    "colab": {
     "base_uri": "https://localhost:8080/",
     "height": 514
    },
    "id": "Sk1ALxZ-LM47",
    "outputId": "cdda81d3-ff47-44ea-c7af-b2b8e170b973"
   },
   "outputs": [
    {
     "data": {
      "application/javascript": "\n    async function takePhoto(quality) {\n      const div = document.createElement('div');\n      const capture = document.createElement('button');\n      capture.textContent = 'Capture';\n      div.appendChild(capture);\n\n      const video = document.createElement('video');\n      video.style.display = 'block';\n      const stream = await navigator.mediaDevices.getUserMedia({video: true});\n\n      document.body.appendChild(div);\n      div.appendChild(video);\n      video.srcObject = stream;\n      await video.play();\n\n      google.colab.output.setIframeHeight(document.documentElement.scrollHeight, true);\n\n      await new Promise((resolve) => capture.onclick = resolve);\n\n      const canvas = document.createElement('canvas');\n      canvas.width = video.videoWidth;\n      canvas.height = video.videoHeight;\n      canvas.getContext('2d').drawImage(video, 0, 0);\n      stream.getVideoTracks()[0].stop();\n      div.remove();\n      return canvas.toDataURL('image/jpeg', quality);\n    }\n    ",
      "text/plain": [
       "<IPython.core.display.Javascript object>"
      ]
     },
     "metadata": {},
     "output_type": "display_data"
    },
    {
     "name": "stdout",
     "output_type": "stream",
     "text": [
      "Saved to photo.jpg\n"
     ]
    },
    {
     "data": {
      "image/jpeg": "[encoded data removed]",
      "text/plain": [
       "<IPython.core.display.Image object>"
      ]
     },
     "metadata": {},
     "output_type": "display_data"
    },
    {
     "data": {
      "application/javascript": "\n    var video;\n    var div = null;\n    var stream;\n    var captureCanvas;\n    var imgElement;\n    var labelElement;\n\n    var pendingResolve = null;\n    var shutdown = false;\n\n    function removeDom() {\n       stream.getVideoTracks()[0].stop();\n       video.remove();\n       div.remove();\n       video = null;\n       div = null;\n       stream = null;\n       imgElement = null;\n       captureCanvas = null;\n       labelElement = null;\n    }\n\n    function onAnimationFrame() {\n      if (!shutdown) {\n        window.requestAnimationFrame(onAnimationFrame);\n      }\n      if (pendingResolve) {\n        var result = \"\";\n        if (!shutdown) {\n          captureCanvas.getContext('2d').drawImage(video, 0, 0, 640, 480);\n          result = captureCanvas.toDataURL('image/jpeg', 0.8)\n        }\n        var lp = pendingResolve;\n        pendingResolve = null;\n        lp(result);\n      }\n    }\n\n    async function createDom() {\n      if (div !== null) {\n        return stream;\n      }\n\n      div = document.createElement('div');\n      div.style.border = '2px solid black';\n      div.style.padding = '3px';\n      div.style.width = '100%';\n      div.style.maxWidth = '600px';\n      document.body.appendChild(div);\n\n      const modelOut = document.createElement('div');\n      modelOut.innerHTML = \"Status:\";\n      labelElement = document.createElement('span');\n      labelElement.innerText = 'No data';\n      labelElement.style.fontWeight = 'bold';\n      modelOut.appendChild(labelElement);\n      div.appendChild(modelOut);\n\n      video = document.createElement('video');\n      video.style.display = 'block';\n      video.width = div.clientWidth - 6;\n      video.setAttribute('playsinline', '');\n      video.onclick = () => { shutdown = true; };\n      stream = await navigator.mediaDevices.getUserMedia(\n          {video: { facingMode: \"environment\"}});\n      div.appendChild(video);\n\n      imgElement = document.createElement('img');\n      imgElement.style.position = 'absolute';\n      imgElement.style.zIndex = 1;\n      imgElement.onclick = () => { shutdown = true; };\n      div.appendChild(imgElement);\n\n      const instruction = document.createElement('div');\n      instruction.innerHTML =\n          '' +\n          'When finished, click here or on the video to stop this demo';\n      div.appendChild(instruction);\n      instruction.onclick = () => { shutdown = true; };\n\n      video.srcObject = stream;\n      await video.play();\n\n      captureCanvas = document.createElement('canvas');\n      captureCanvas.width = 640;\n      captureCanvas.height = 480;\n      window.requestAnimationFrame(onAnimationFrame);\n\n      return stream;\n    }\n    async function stream_frame(label, imgData) {\n      if (shutdown) {\n        removeDom();\n        shutdown = false;\n        return '';\n      }\n\n      var preCreate = Date.now();\n      stream = await createDom();\n\n      var preShow = Date.now();\n      if (label != \"\") {\n        labelElement.innerHTML = label;\n      }\n\n      if (imgData != \"\") {\n        var videoRect = video.getClientRects()[0];\n        imgElement.style.top = videoRect.top + \"px\";\n        imgElement.style.left = videoRect.left + \"px\";\n        imgElement.style.width = videoRect.width + \"px\";\n        imgElement.style.height = videoRect.height + \"px\";\n        imgElement.src = imgData;\n      }\n\n      var preCapture = Date.now();\n      var result = await new Promise(function(resolve, reject) {\n        pendingResolve = resolve;\n      });\n      shutdown = false;\n\n      return {'create': preShow - preCreate,\n              'show': preCapture - preShow,\n              'capture': Date.now() - preCapture,\n              'img': result};\n    }\n    ",
      "text/plain": [
       "<IPython.core.display.Javascript object>"
      ]
     },
     "metadata": {},
     "output_type": "display_data"
    }
   ],
   "source": [
    "# import dependencies\n",
    "from IPython.display import display, Javascript, Image\n",
    "from google.colab.output import eval_js\n",
    "from base64 import b64decode, b64encode\n",
    "import cv2\n",
    "import numpy as np\n",
    "import PIL\n",
    "import io\n",
    "import html\n",
    "import time\n",
    "\n",
    "# function to convert the JavaScript object into an OpenCV image\n",
    "def js_to_image(js_reply):\n",
    "  image_bytes = b64decode(js_reply.split(',')[1])\n",
    "  jpg_as_np = np.frombuffer(image_bytes, dtype=np.uint8)\n",
    "  img = cv2.imdecode(jpg_as_np, flags=1)\n",
    "  return img\n",
    "\n",
    "# function to convert OpenCV Rectangle bounding box image into base64 byte string to be overlayed on video stream\n",
    "def bbox_to_bytes(bbox_array):\n",
    "  bbox_PIL = PIL.Image.fromarray(bbox_array, 'RGBA')\n",
    "  iobuf = io.BytesIO()\n",
    "  bbox_PIL.save(iobuf, format='png')\n",
    "  bbox_bytes = 'data:image/png;base64,{}'.format((str(b64encode(iobuf.getvalue()), 'utf-8')))\n",
    "  return bbox_bytes\n",
    "\n",
    "# initialize the Haar Cascade face detection model\n",
    "face_cascade = cv2.CascadeClassifier(cv2.samples.findFile(cv2.data.haarcascades + 'haarcascade_frontalface_default.xml'))\n",
    "\n",
    "# JavaScript to capture photo from webcam\n",
    "def take_photo(filename='photo.jpg', quality=0.8):\n",
    "  js = Javascript('''\n",
    "    async function takePhoto(quality) {\n",
    "      const div = document.createElement('div');\n",
    "      const capture = document.createElement('button');\n",
    "      capture.textContent = 'Capture';\n",
    "      div.appendChild(capture);\n",
    "\n",
    "      const video = document.createElement('video');\n",
    "      video.style.display = 'block';\n",
    "      const stream = await navigator.mediaDevices.getUserMedia({video: true});\n",
    "\n",
    "      document.body.appendChild(div);\n",
    "      div.appendChild(video);\n",
    "      video.srcObject = stream;\n",
    "      await video.play();\n",
    "\n",
    "      google.colab.output.setIframeHeight(document.documentElement.scrollHeight, true);\n",
    "\n",
    "      await new Promise((resolve) => capture.onclick = resolve);\n",
    "\n",
    "      const canvas = document.createElement('canvas');\n",
    "      canvas.width = video.videoWidth;\n",
    "      canvas.height = video.videoHeight;\n",
    "      canvas.getContext('2d').drawImage(video, 0, 0);\n",
    "      stream.getVideoTracks()[0].stop();\n",
    "      div.remove();\n",
    "      return canvas.toDataURL('image/jpeg', quality);\n",
    "    }\n",
    "    ''')\n",
    "  display(js)\n",
    "\n",
    "  data = eval_js('takePhoto({})'.format(quality))\n",
    "  img = js_to_image(data)\n",
    "  gray = cv2.cvtColor(img, cv2.COLOR_RGB2GRAY)\n",
    "  faces = face_cascade.detectMultiScale(gray)\n",
    "  for (x,y,w,h) in faces:\n",
    "      img = cv2.rectangle(img,(x,y),(x+w,y+h),(255,0,0),2)\n",
    "  cv2.imwrite(filename, img)\n",
    "\n",
    "  return filename\n",
    "\n",
    "try:\n",
    "  filename = take_photo('photo.jpg')\n",
    "  print('Saved to {}'.format(filename))\n",
    "  display(Image(filename))\n",
    "except Exception as err:\n",
    "  print(str(err))\n",
    "\n",
    "# JavaScript to create live video stream from webcam\n",
    "def video_stream():\n",
    "  js = Javascript('''\n",
    "    var video;\n",
    "    var div = null;\n",
    "    var stream;\n",
    "    var captureCanvas;\n",
    "    var imgElement;\n",
    "    var labelElement;\n",
    "\n",
    "    var pendingResolve = null;\n",
    "    var shutdown = false;\n",
    "\n",
    "    function removeDom() {\n",
    "       stream.getVideoTracks()[0].stop();\n",
    "       video.remove();\n",
    "       div.remove();\n",
    "       video = null;\n",
    "       div = null;\n",
    "       stream = null;\n",
    "       imgElement = null;\n",
    "       captureCanvas = null;\n",
    "       labelElement = null;\n",
    "    }\n",
    "\n",
    "    function onAnimationFrame() {\n",
    "      if (!shutdown) {\n",
    "        window.requestAnimationFrame(onAnimationFrame);\n",
    "      }\n",
    "      if (pendingResolve) {\n",
    "        var result = \"\";\n",
    "        if (!shutdown) {\n",
    "          captureCanvas.getContext('2d').drawImage(video, 0, 0, 640, 480);\n",
    "          result = captureCanvas.toDataURL('image/jpeg', 0.8)\n",
    "        }\n",
    "        var lp = pendingResolve;\n",
    "        pendingResolve = null;\n",
    "        lp(result);\n",
    "      }\n",
    "    }\n",
    "\n",
    "    async function createDom() {\n",
    "      if (div !== null) {\n",
    "        return stream;\n",
    "      }\n",
    "\n",
    "      div = document.createElement('div');\n",
    "      div.style.border = '2px solid black';\n",
    "      div.style.padding = '3px';\n",
    "      div.style.width = '100%';\n",
    "      div.style.maxWidth = '600px';\n",
    "      document.body.appendChild(div);\n",
    "\n",
    "      const modelOut = document.createElement('div');\n",
    "      modelOut.innerHTML = \"Status:\";\n",
    "      labelElement = document.createElement('span');\n",
    "      labelElement.innerText = 'No data';\n",
    "      labelElement.style.fontWeight = 'bold';\n",
    "      modelOut.appendChild(labelElement);\n",
    "      div.appendChild(modelOut);\n",
    "\n",
    "      video = document.createElement('video');\n",
    "      video.style.display = 'block';\n",
    "      video.width = div.clientWidth - 6;\n",
    "      video.setAttribute('playsinline', '');\n",
    "      video.onclick = () => { shutdown = true; };\n",
    "      stream = await navigator.mediaDevices.getUserMedia(\n",
    "          {video: { facingMode: \"environment\"}});\n",
    "      div.appendChild(video);\n",
    "\n",
    "      imgElement = document.createElement('img');\n",
    "      imgElement.style.position = 'absolute';\n",
    "      imgElement.style.zIndex = 1;\n",
    "      imgElement.onclick = () => { shutdown = true; };\n",
    "      div.appendChild(imgElement);\n",
    "\n",
    "      const instruction = document.createElement('div');\n",
    "      instruction.innerHTML =\n",
    "          '' +\n",
    "          'When finished, click here or on the video to stop this demo';\n",
    "      div.appendChild(instruction);\n",
    "      instruction.onclick = () => { shutdown = true; };\n",
    "\n",
    "      video.srcObject = stream;\n",
    "      await video.play();\n",
    "\n",
    "      captureCanvas = document.createElement('canvas');\n",
    "      captureCanvas.width = 640;\n",
    "      captureCanvas.height = 480;\n",
    "      window.requestAnimationFrame(onAnimationFrame);\n",
    "\n",
    "      return stream;\n",
    "    }\n",
    "    async function stream_frame(label, imgData) {\n",
    "      if (shutdown) {\n",
    "        removeDom();\n",
    "        shutdown = false;\n",
    "        return '';\n",
    "      }\n",
    "\n",
    "      var preCreate = Date.now();\n",
    "      stream = await createDom();\n",
    "\n",
    "      var preShow = Date.now();\n",
    "      if (label != \"\") {\n",
    "        labelElement.innerHTML = label;\n",
    "      }\n",
    "\n",
    "      if (imgData != \"\") {\n",
    "        var videoRect = video.getClientRects()[0];\n",
    "        imgElement.style.top = videoRect.top + \"px\";\n",
    "        imgElement.style.left = videoRect.left + \"px\";\n",
    "        imgElement.style.width = videoRect.width + \"px\";\n",
    "        imgElement.style.height = videoRect.height + \"px\";\n",
    "        imgElement.src = imgData;\n",
    "      }\n",
    "\n",
    "      var preCapture = Date.now();\n",
    "      var result = await new Promise(function(resolve, reject) {\n",
    "        pendingResolve = resolve;\n",
    "      });\n",
    "      shutdown = false;\n",
    "\n",
    "      return {'create': preShow - preCreate,\n",
    "              'show': preCapture - preShow,\n",
    "              'capture': Date.now() - preCapture,\n",
    "              'img': result};\n",
    "    }\n",
    "    ''')\n",
    "\n",
    "  display(js)\n",
    "\n",
    "def video_frame(label, bbox):\n",
    "  data = eval_js('stream_frame(\"{}\", \"{}\")'.format(label, bbox))\n",
    "  return data\n",
    "\n",
    "# start streaming video from webcam\n",
    "video_stream()\n",
    "# label for video\n",
    "label_html = 'Capturing...'\n",
    "# initialze bounding box to empty\n",
    "bbox = ''\n",
    "count = 0\n",
    "while True:\n",
    "    js_reply = video_frame(label_html, bbox)\n",
    "    if not js_reply:\n",
    "        break\n",
    "\n",
    "    img = js_to_image(js_reply[\"img\"])\n",
    "\n",
    "    bbox_array = np.zeros([480,640,4], dtype=np.uint8)\n",
    "\n",
    "    gray = cv2.cvtColor(img, cv2.COLOR_RGB2GRAY)\n",
    "\n",
    "    faces = face_cascade.detectMultiScale(gray)\n",
    "    for (x,y,w,h) in faces:\n",
    "      bbox_array = cv2.rectangle(bbox_array,(x,y),(x+w,y+h),(255,0,0),2)\n",
    "\n",
    "    bbox_array[:,:,3] = (bbox_array.max(axis = 2) > 0 ).astype(int) * 255\n",
    "    bbox_bytes = bbox_to_bytes(bbox_array)\n",
    "    bbox = bbox_bytes\n"
   ]
  },
  {
   "cell_type": "markdown",
   "metadata": {
    "id": "GlVFvhKWLK6D"
   },
   "source": []
  }
 ],
 "metadata": {
  "colab": {
   "provenance": []
  },
  "kernelspec": {
   "display_name": "Python 3",
   "name": "python3"
  },
  "language_info": {
   "name": "python"
  }
 },
 "nbformat": 4,
 "nbformat_minor": 0
}
